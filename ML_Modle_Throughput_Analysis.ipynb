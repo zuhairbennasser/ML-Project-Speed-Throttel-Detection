{
 "cells": [
  {
   "cell_type": "code",
   "execution_count": null,
   "id": "88aa4fc3",
   "metadata": {},
   "outputs": [],
   "source": [
    "###Feature Selection####\n",
    "import pandas as pd\n",
    "import matplotlib.pyplot as plt\n",
    "import seaborn as sns\n",
    "df= pd.read_csv('labeled_Data.csv')\n",
    "features=df.columns[1:]\n",
    "x=df[\"features\"]\n",
    "y=df[\"label\"]\n",
    "\n",
    "##Get correlations of each feature in a data set\n",
    "corrmat=df.corr()\n",
    "top_corr_features = corrmat.index\n",
    "plt.figure(figsize=(20,20))\n",
    "##Plot heatmap##\n",
    "g=sns.heatmap(df[top_corr_features].corr(),annot=True,cmap=\"RdYlGn\")\n"
   ]
  },
  {
   "cell_type": "code",
   "execution_count": null,
   "id": "d4f4a924",
   "metadata": {},
   "outputs": [],
   "source": [
    "###Colinerity calculation###\n",
    "from sklearn.linear_model import LinearRegression\n",
    "def calculate_vif(df,features):\n",
    "    vif,tolerance= {},{}\n",
    "    for feature in features:\n",
    "        X=[f for f in features if f != feature]\n",
    "        X, y= df[X], df[feature]\n",
    "        #extract r-squared from teh fit\n",
    "        r2= LinearRegression().fit(X,y).score(X,y)\n",
    "        #Calculate tolerance\n",
    "        tolerance[feature]=1 - r2\n",
    "        #Calculate VIF\n",
    "        vif[feature]=1/(tolerance[feature])\n",
    "    return pd.DataFrame({'VIF':vif, 'Tolerance':tolerance})\n",
    "\n",
    "df_vif=calculate_vif(df,features)\n",
    "\n",
    "##Remove the features with VIF > 5####\n",
    "df_vif=df_vif[df_vif[\"VIF\"]< 5]\n",
    "features= df_vif.index.values\n",
    "df_vif=calculate_vif(df,features)"
   ]
  },
  {
   "cell_type": "code",
   "execution_count": null,
   "id": "65b118f5",
   "metadata": {},
   "outputs": [],
   "source": [
    "###Training the model \n",
    "\n",
    "\n",
    "from sklearn.model_selection import train_test_split\n",
    "from sklearn import preprocessing\n",
    "from sklearn.svm import SVC\n",
    "from sklearn.metrics import accuracy_score\n",
    "\n",
    "X=df[feature]\n",
    "Y=df[\"label\"]\n",
    "\n",
    "X= preprocessing.StandardScaler().fit(X).transform(X)\n",
    "X_train, X_test, Y_train, y_test = train_test_split(X,Y, test_size=0.2, random_state=0)\n",
    "clf_svm= SVC(C=25, kernel=\"rbf\", gamma=0.01, probability= True)\n",
    "clf_svm.fit(X_train,Y_train)\n",
    "\n",
    "###Testing the Model\n",
    "y_pred_svm =clf_svm.predict(X_test)\n",
    "accuracy= accuracy_score(y_test,y_pred_svm)\n",
    "\n",
    "##Hyper parameter Tuning####\n",
    "\n",
    "param_grid = {\n",
    "    'C': [0.1, 1, 10, 100],           # Regularization parameter\n",
    "    'kernel': ['linear', 'rbf', 'poly'],  # Kernel type\n",
    "    'gamma': ['scale', 'auto'],         # Kernel coefficient for ‘rbf’, ‘poly’ kernels\n",
    "    'degree': [3, 4, 5]                # Degree of the polynomial kernel (if 'poly' is chosen)\n",
    "}\n",
    "\n",
    "# Initialize GridSearchCV with the SVC model and the parameter grid\n",
    "grid_search = GridSearchCV(svc, param_grid, cv=5, scoring='accuracy')\n",
    "\n",
    "# Fit the model with training data\n",
    "grid_search.fit(X_train, y_train)\n",
    "\n",
    "# Get the best parameters and the best score\n",
    "print(\"Best parameters found: \", grid_search.best_params_)\n",
    "print(\"Best cross-validation accuracy: \", grid_search.best_score_)\n",
    "\n",
    "# Use the best estimator for predictions\n",
    "best_model = grid_search.best_estimator_\n",
    "y_pred = best_model.predict(X_test)\n",
    "\n",
    "# You can also evaluate the performance on the test set\n",
    "from sklearn.metrics import accuracy_score\n",
    "print(\"Test accuracy: \", accuracy_score(y_test, y_pred))"
   ]
  },
  {
   "cell_type": "code",
   "execution_count": 1,
   "id": "52d77f71",
   "metadata": {},
   "outputs": [
    {
     "name": "stdout",
     "output_type": "stream",
     "text": [
      "Best parameters found:  {'C': 1, 'degree': 3, 'gamma': 'scale', 'kernel': 'poly'}\n",
      "Best cross-validation accuracy:  0.9714285714285715\n",
      "Test accuracy:  0.9777777777777777\n"
     ]
    }
   ],
   "source": [
    "\n"
   ]
  },
  {
   "cell_type": "code",
   "execution_count": null,
   "id": "a1c6ffb4",
   "metadata": {},
   "outputs": [],
   "source": []
  }
 ],
 "metadata": {
  "kernelspec": {
   "display_name": "Python 3 (ipykernel)",
   "language": "python",
   "name": "python3"
  },
  "language_info": {
   "codemirror_mode": {
    "name": "ipython",
    "version": 3
   },
   "file_extension": ".py",
   "mimetype": "text/x-python",
   "name": "python",
   "nbconvert_exporter": "python",
   "pygments_lexer": "ipython3",
   "version": "3.11.5"
  }
 },
 "nbformat": 4,
 "nbformat_minor": 5
}
